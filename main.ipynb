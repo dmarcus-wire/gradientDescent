{
 "cells": [
  {
   "cell_type": "code",
   "execution_count": 44,
   "outputs": [],
   "source": [
    "# import the necessary packages\n",
    "# for testing models from scratch\n",
    "from sklearn.datasets import make_blobs # create 'blobs' of normally distributed data points\n",
    "import matplotlib.pyplot as plt\n",
    "import numpy as np\n",
    "import argparse"
   ],
   "metadata": {
    "collapsed": false,
    "pycharm": {
     "name": "#%%\n"
    }
   }
  },
  {
   "cell_type": "markdown",
   "source": [
    "Implement gradient descent"
   ],
   "metadata": {
    "collapsed": false,
    "pycharm": {
     "name": "#%% md\n"
    }
   }
  },
  {
   "cell_type": "code",
   "execution_count": 45,
   "outputs": [],
   "source": [
    "def sigmoid_activation(x):\n",
    "\t# compute and return the sigmoid activation value for a\n",
    "\t# given input value. Will be an S shaped-curve aka\n",
    "\t# 'activation function', b/c the function will activate and fire\n",
    "\t# ON output > 0.5 or OFF output <= 0.5 (.5 is a set threshold)\n",
    "\treturn 1.0 / (1 + np.exp(-x))"
   ],
   "metadata": {
    "collapsed": false,
    "pycharm": {
     "name": "#%%\n"
    }
   }
  },
  {
   "cell_type": "code",
   "execution_count": 46,
   "outputs": [],
   "source": [
    "# since we are using Jupyter Notebooks we can replace our argument\n",
    "# parsing code with *hard coded* arguments and values\n",
    "args = {\n",
    "\t\"epochs\": 100,\n",
    "\t\"alpha\": 0.01\n",
    "}"
   ],
   "metadata": {
    "collapsed": false,
    "pycharm": {
     "name": "#%%\n"
    }
   }
  },
  {
   "cell_type": "code",
   "execution_count": 47,
   "outputs": [
    {
     "name": "stdout",
     "output_type": "stream",
     "text": [
      "[INFO] starting training...\n"
     ]
    }
   ],
   "source": [
    "# generate a 2-class classification problem with 250 data points,\n",
    "# where each data point is a 2D feature vector\n",
    "(X, y) = make_blobs(n_samples=250, n_features=2, centers=2,\n",
    "\tcluster_std=1.05, random_state=20)\n",
    "\n",
    "# insert a column of 1's as the first entry in the feature\n",
    "# vector -- this is a little trick that allows us to treat\n",
    "# the bias as a trainable parameter *within* the weight matrix\n",
    "# rather than an entirely separate variable\n",
    "X = np.c_[np.ones((X.shape[0])), X]\n",
    "\n",
    "# initialize our weight matrix such it has the same number of\n",
    "# columns as our input features\n",
    "print(\"[INFO] starting training...\")\n",
    "W = np.random.uniform(size=(X.shape[1],))\n",
    "\n",
    "# initialize a list to store the loss value for each epoch\n",
    "lossHistory = []"
   ],
   "metadata": {
    "collapsed": false,
    "pycharm": {
     "name": "#%%\n"
    }
   }
  },
  {
   "cell_type": "code",
   "execution_count": 48,
   "outputs": [
    {
     "name": "stdout",
     "output_type": "stream",
     "text": [
      "[INFO] epoch #1, loss=123.3738525\n",
      "[INFO] epoch #2, loss=122.8110754\n",
      "[INFO] epoch #3, loss=122.0533584\n",
      "[INFO] epoch #4, loss=121.0360470\n",
      "[INFO] epoch #5, loss=119.6763598\n",
      "[INFO] epoch #6, loss=117.8713025\n",
      "[INFO] epoch #7, loss=115.4980227\n",
      "[INFO] epoch #8, loss=112.4190461\n",
      "[INFO] epoch #9, loss=108.4955648\n",
      "[INFO] epoch #10, loss=103.6116443\n",
      "[INFO] epoch #11, loss=97.7094155\n",
      "[INFO] epoch #12, loss=90.8288888\n",
      "[INFO] epoch #13, loss=83.1373942\n",
      "[INFO] epoch #14, loss=74.9291185\n",
      "[INFO] epoch #15, loss=66.5832623\n",
      "[INFO] epoch #16, loss=58.4905279\n",
      "[INFO] epoch #17, loss=50.9774955\n",
      "[INFO] epoch #18, loss=44.2591301\n",
      "[INFO] epoch #19, loss=38.4307970\n",
      "[INFO] epoch #20, loss=33.4901991\n",
      "[INFO] epoch #21, loss=29.3711987\n",
      "[INFO] epoch #22, loss=25.9753064\n",
      "[INFO] epoch #23, loss=23.1945060\n",
      "[INFO] epoch #24, loss=20.9249839\n",
      "[INFO] epoch #25, loss=19.0739194\n",
      "[INFO] epoch #26, loss=17.5618524\n",
      "[INFO] epoch #27, loss=16.3226012\n",
      "[INFO] epoch #28, loss=15.3020158\n",
      "[INFO] epoch #29, loss=14.4563070\n",
      "[INFO] epoch #30, loss=13.7503404\n",
      "[INFO] epoch #31, loss=13.1560725\n",
      "[INFO] epoch #32, loss=12.6511966\n",
      "[INFO] epoch #33, loss=12.2180082\n",
      "[INFO] epoch #34, loss=11.8424723\n",
      "[INFO] epoch #35, loss=11.5134680\n",
      "[INFO] epoch #36, loss=11.2221826\n",
      "[INFO] epoch #37, loss=10.9616269\n",
      "[INFO] epoch #38, loss=10.7262516\n",
      "[INFO] epoch #39, loss=10.5116430\n",
      "[INFO] epoch #40, loss=10.3142831\n",
      "[INFO] epoch #41, loss=10.1313605\n",
      "[INFO] epoch #42, loss=9.9606218\n",
      "[INFO] epoch #43, loss=9.8002540\n",
      "[INFO] epoch #44, loss=9.6487932\n",
      "[INFO] epoch #45, loss=9.5050517\n",
      "[INFO] epoch #46, loss=9.3680614\n",
      "[INFO] epoch #47, loss=9.2370287\n",
      "[INFO] epoch #48, loss=9.1112997\n",
      "[INFO] epoch #49, loss=8.9903319\n",
      "[INFO] epoch #50, loss=8.8736723\n",
      "[INFO] epoch #51, loss=8.7609400\n",
      "[INFO] epoch #52, loss=8.6518127\n",
      "[INFO] epoch #53, loss=8.5460152\n",
      "[INFO] epoch #54, loss=8.4433110\n",
      "[INFO] epoch #55, loss=8.3434953\n",
      "[INFO] epoch #56, loss=8.2463892\n",
      "[INFO] epoch #57, loss=8.1518357\n",
      "[INFO] epoch #58, loss=8.0596953\n",
      "[INFO] epoch #59, loss=7.9698438\n",
      "[INFO] epoch #60, loss=7.8821696\n",
      "[INFO] epoch #61, loss=7.7965719\n",
      "[INFO] epoch #62, loss=7.7129589\n",
      "[INFO] epoch #63, loss=7.6312467\n",
      "[INFO] epoch #64, loss=7.5513582\n",
      "[INFO] epoch #65, loss=7.4732221\n",
      "[INFO] epoch #66, loss=7.3967722\n",
      "[INFO] epoch #67, loss=7.3219470\n",
      "[INFO] epoch #68, loss=7.2486889\n",
      "[INFO] epoch #69, loss=7.1769438\n",
      "[INFO] epoch #70, loss=7.1066610\n",
      "[INFO] epoch #71, loss=7.0377925\n",
      "[INFO] epoch #72, loss=6.9702928\n",
      "[INFO] epoch #73, loss=6.9041190\n",
      "[INFO] epoch #74, loss=6.8392303\n",
      "[INFO] epoch #75, loss=6.7755877\n",
      "[INFO] epoch #76, loss=6.7131543\n",
      "[INFO] epoch #77, loss=6.6518946\n",
      "[INFO] epoch #78, loss=6.5917748\n",
      "[INFO] epoch #79, loss=6.5327627\n",
      "[INFO] epoch #80, loss=6.4748271\n",
      "[INFO] epoch #81, loss=6.4179385\n",
      "[INFO] epoch #82, loss=6.3620681\n",
      "[INFO] epoch #83, loss=6.3071886\n",
      "[INFO] epoch #84, loss=6.2532736\n",
      "[INFO] epoch #85, loss=6.2002977\n",
      "[INFO] epoch #86, loss=6.1482365\n",
      "[INFO] epoch #87, loss=6.0970664\n",
      "[INFO] epoch #88, loss=6.0467647\n",
      "[INFO] epoch #89, loss=5.9973094\n",
      "[INFO] epoch #90, loss=5.9486794\n",
      "[INFO] epoch #91, loss=5.9008543\n",
      "[INFO] epoch #92, loss=5.8538143\n",
      "[INFO] epoch #93, loss=5.8075403\n",
      "[INFO] epoch #94, loss=5.7620138\n",
      "[INFO] epoch #95, loss=5.7172170\n",
      "[INFO] epoch #96, loss=5.6731326\n",
      "[INFO] epoch #97, loss=5.6297438\n",
      "[INFO] epoch #98, loss=5.5870345\n",
      "[INFO] epoch #99, loss=5.5449889\n",
      "[INFO] epoch #100, loss=5.5035918\n"
     ]
    }
   ],
   "source": [
    "# loop over the desired number of epochs\n",
    "for epoch in np.arange(0, args[\"epochs\"]):\n",
    "\t# take the dot product between our features `X` and the\n",
    "\t# weight matrix `W`, then pass this value through the\n",
    "\t# sigmoid activation function, thereby giving us our\n",
    "\t# predictions on the dataset\n",
    "\tpreds = sigmoid_activation(X.dot(W))\n",
    "\n",
    "\t# now that we have our predictions, we need to determine\n",
    "\t# our `error`, which is the difference between our predictions\n",
    "\t# and the true values\n",
    "\terror = preds - y\n",
    "\n",
    "\t# given our `error`, we can compute the total loss value as\n",
    "\t# the sum of squared loss -- ideally, our loss should\n",
    "\t# decrease as we continue training\n",
    "\tloss = np.sum(error ** 2)\n",
    "\tlossHistory.append(loss)\n",
    "\tprint(\"[INFO] epoch #{}, loss={:.7f}\".format(epoch + 1, loss))\n",
    "\n",
    "\t# the gradient update is therefore the dot product between\n",
    "\t# the transpose of `X` and our error, scaled by the total\n",
    "\t# number of data points in `X`\n",
    "\tgradient = X.T.dot(error) / X.shape[0]\n",
    "\n",
    "\t# in the update stage, all we need to do is nudge our weight\n",
    "\t# matrix in the opposite direction of the gradient (hence the\n",
    "\t# term \"gradient descent\" by taking a small step towards a\n",
    "\t# set of \"more optimal\" parameters\n",
    "\tW += -args[\"alpha\"] * gradient"
   ],
   "metadata": {
    "collapsed": false,
    "pycharm": {
     "name": "#%%\n"
    }
   }
  },
  {
   "cell_type": "code",
   "execution_count": 49,
   "outputs": [
    {
     "name": "stdout",
     "output_type": "stream",
     "text": [
      "activation=0.9594; predicted_label=1, true_label=1\n",
      "activation=0.9266; predicted_label=1, true_label=1\n",
      "activation=0.8812; predicted_label=1, true_label=1\n",
      "activation=0.0759; predicted_label=0, true_label=0\n",
      "activation=0.1569; predicted_label=0, true_label=0\n",
      "activation=0.1279; predicted_label=0, true_label=0\n",
      "activation=0.8153; predicted_label=1, true_label=1\n",
      "activation=0.2161; predicted_label=0, true_label=0\n",
      "activation=0.9721; predicted_label=1, true_label=1\n",
      "activation=0.1221; predicted_label=0, true_label=0\n"
     ]
    }
   ],
   "source": [
    "# to demonstrate how to use our weight matrix as a classifier,\n",
    "# let's look over our a sample of training examples\n",
    "for i in np.random.choice(250, 10):\n",
    "\t# compute the prediction by taking the dot product of the\n",
    "\t# current feature vector with the weight matrix W, then\n",
    "\t# passing it through the sigmoid activation function\n",
    "\tactivation = sigmoid_activation(X[i].dot(W))\n",
    "\n",
    "\t# the sigmoid function is defined over the range y=[0, 1],\n",
    "\t# so we can use 0.5 as our threshold -- if `activation` is\n",
    "\t# below 0.5, it's class `0`; otherwise it's class `1`\n",
    "\tlabel = 0 if activation < 0.5 else 1\n",
    "\n",
    "\t# show our output classification\n",
    "\tprint(\"activation={:.4f}; predicted_label={}, true_label={}\".format(\n",
    "\t\tactivation, label, y[i]))"
   ],
   "metadata": {
    "collapsed": false,
    "pycharm": {
     "name": "#%%\n"
    }
   }
  },
  {
   "cell_type": "code",
   "execution_count": 50,
   "outputs": [
    {
     "data": {
      "text/plain": "<Figure size 432x288 with 1 Axes>",
      "image/png": "[encoded data removed]"
     },
     "metadata": {
      "needs_background": "light"
     },
     "output_type": "display_data"
    },
    {
     "data": {
      "text/plain": "<Figure size 432x288 with 1 Axes>",
      "image/png": "[encoded data removed]"
     },
     "metadata": {
      "needs_background": "light"
     },
     "output_type": "display_data"
    }
   ],
   "source": [
    "# compute the line of best fit by setting the sigmoid function\n",
    "# to 0 and solving for X2 in terms of X1\n",
    "Y = (-W[0] - (W[1] * X)) / W[2]\n",
    "\n",
    "# plot the original data along with our line of best fit\n",
    "plt.figure()\n",
    "plt.scatter(X[:, 1], X[:, 2], marker=\"o\", c=y)\n",
    "plt.plot(X, Y, \"r-\")\n",
    "\n",
    "# construct a figure that plots the loss over time\n",
    "fig = plt.figure()\n",
    "plt.plot(np.arange(0, args[\"epochs\"]), lossHistory)\n",
    "fig.suptitle(\"Training Loss\")\n",
    "plt.xlabel(\"Epoch #\")\n",
    "plt.ylabel(\"Loss\")\n",
    "plt.show()"
   ],
   "metadata": {
    "collapsed": false,
    "pycharm": {
     "name": "#%%\n"
    }
   }
  }
 ],
 "metadata": {
  "kernelspec": {
   "display_name": "Python 3",
   "language": "python",
   "name": "python3"
  },
  "language_info": {
   "codemirror_mode": {
    "name": "ipython",
    "version": 2
   },
   "file_extension": ".py",
   "mimetype": "text/x-python",
   "name": "python",
   "nbconvert_exporter": "python",
   "pygments_lexer": "ipython2",
   "version": "2.7.6"
  }
 },
 "nbformat": 4,
 "nbformat_minor": 0
}